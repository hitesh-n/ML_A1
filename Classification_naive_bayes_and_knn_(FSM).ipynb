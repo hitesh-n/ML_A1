{
  "nbformat": 4,
  "nbformat_minor": 0,
  "metadata": {
    "colab": {
      "name": "Classification naive bayes and knn (FSM).ipynb",
      "provenance": [],
      "collapsed_sections": [],
      "authorship_tag": "ABX9TyPjPop11dk2PqFmb10PJQh+"
    },
    "kernelspec": {
      "name": "python3",
      "display_name": "Python 3"
    },
    "language_info": {
      "name": "python"
    }
  },
  "cells": [
    {
      "cell_type": "code",
      "execution_count": 43,
      "metadata": {
        "id": "wf8LIxFAb6NC"
      },
      "outputs": [],
      "source": [
        "import pandas as pd\n",
        "import numpy as np\n",
        "import matplotlib.pyplot as plt"
      ]
    },
    {
      "cell_type": "code",
      "source": [
        "#--------------------Naive Bayes Classifier-----------------------------------\n",
        "\n",
        "# loading data into pandas dataframe\n",
        "train_data = pd.read_csv(\"train.csv\")\n",
        "test_data = pd.read_csv(\"test.csv\")\n",
        "test_results = pd.read_csv(\"gender_submission.csv\")\n",
        "\n",
        "# preprocessing\n",
        "\n",
        "# replacing text with numeric values\n",
        "train_data[\"Sex\"] = np.where(train_data[\"Sex\"] == \"male\", 0, 1)\n",
        "test_data[\"Sex\"] = np.where(test_data[\"Sex\"] == \"male\", 0, 1)\n",
        "\n",
        "train_data[\"Embarked\"].mask(train_data[\"Embarked\"] == \"S\", 0, inplace=True)\n",
        "train_data[\"Embarked\"].mask(train_data[\"Embarked\"] == \"C\", 1, inplace=True) \n",
        "train_data[\"Embarked\"].mask(train_data[\"Embarked\"] == \"Q\", 2, inplace=True)\n",
        "\n",
        "# dropping columns with mixed and less data \n",
        "train_data = train_data.drop(\"Cabin\", axis=1)\n",
        "train_data = train_data.drop(\"Name\", axis=1)\n",
        "train_data = train_data.drop(\"Ticket\", axis=1)\n",
        "\n",
        "# removing null rows\n",
        "train_data = train_data.dropna(how='any',axis=0)  \n",
        "\n",
        "# making age and fare into a class\n",
        "train_data.loc[train_data[\"Age\"] > 90, \"Age\"] = 0\n",
        "train_data.loc[train_data[\"Age\"] > 60, \"Age\"] = 1\n",
        "train_data.loc[train_data[\"Age\"] > 30, \"Age\"] = 2\n",
        "train_data.loc[train_data[\"Age\"] > 2, \"Age\"] = 3\n",
        "\n",
        "train_data.loc[train_data[\"Fare\"] > 200, \"Fare\"] = 0\n",
        "train_data.loc[train_data[\"Fare\"] > 100, \"Fare\"] = 1\n",
        "train_data.loc[train_data[\"Fare\"] > 50, \"Fare\"] = 2\n",
        "train_data.loc[train_data[\"Fare\"] > 2, \"Fare\"] = 3\n",
        "\n",
        "print(train_data)"
      ],
      "metadata": {
        "colab": {
          "base_uri": "https://localhost:8080/"
        },
        "id": "O6IWmBP2c4Lq",
        "outputId": "97206a92-6081-4ddb-b6c7-5070ea02bfdd"
      },
      "execution_count": 44,
      "outputs": [
        {
          "output_type": "stream",
          "name": "stdout",
          "text": [
            "     PassengerId  Survived  Pclass  Sex  Age  SibSp  Parch  Fare Embarked\n",
            "0              1         0       3    0  3.0      1      0   3.0        0\n",
            "1              2         1       1    1  2.0      1      0   2.0        1\n",
            "2              3         1       3    1  3.0      0      0   3.0        0\n",
            "3              4         1       1    1  2.0      1      0   2.0        0\n",
            "4              5         0       3    0  2.0      0      0   3.0        0\n",
            "..           ...       ...     ...  ...  ...    ...    ...   ...      ...\n",
            "885          886         0       3    1  2.0      0      5   3.0        2\n",
            "886          887         0       2    0  3.0      0      0   3.0        0\n",
            "887          888         1       1    1  3.0      0      0   3.0        0\n",
            "889          890         1       1    0  3.0      0      0   3.0        1\n",
            "890          891         0       3    0  2.0      0      0   3.0        2\n",
            "\n",
            "[712 rows x 9 columns]\n"
          ]
        }
      ]
    },
    {
      "cell_type": "code",
      "source": [
        "# this function is used to group passenger id under different class \n",
        "# features\n",
        "def group_into_class(df, column_name):\n",
        "    grouped = df.groupby(['PassengerId', column_name])\n",
        "    classified_dict = {}\n",
        "    for i,j in grouped: classified_dict[i[1]] = []\n",
        "    for i,j in grouped: classified_dict[i[1]].append(i[0])\n",
        "    return classified_dict\n"
      ],
      "metadata": {
        "id": "uo_FCb2odJ_F"
      },
      "execution_count": 45,
      "outputs": []
    },
    {
      "cell_type": "code",
      "source": [
        "# this function is used to calculate probabilities using bayes theorem\n",
        "def get_probabilities(df, feature_name, survived, probability_survived, \n",
        "                      total_survived, total_count):\n",
        "    count = 0\n",
        "    probabilities = {}\n",
        "    for i,j in group_into_class(df, feature_name).items():\n",
        "        for k in j:\n",
        "            if k in survived[1] : count = count + 1\n",
        "        probabilities[i] = ((count/total_survived)*probability_survived)/(\n",
        "                                                  len(j)/total_count)\n",
        "        count = 0\n",
        "    return probabilities"
      ],
      "metadata": {
        "id": "FX9jSApedMGv"
      },
      "execution_count": 46,
      "outputs": []
    },
    {
      "cell_type": "code",
      "source": [
        "# this function is used to predict the output based on the probabilities \n",
        "def predict_naive_bayes(df, feature_names, probability_weights):\n",
        "    new_dict = {}\n",
        "\n",
        "    for f in feature_names:\n",
        "      for i,j in group_into_class(df, f).items():\n",
        "        for k in j:\n",
        "          p = probability_weights[f][i]\n",
        "          if k not in new_dict.keys(): new_dict[k] = 0\n",
        "          new_dict[k] = new_dict[k] + p\n",
        "\n",
        "    for i, j in new_dict.items():\n",
        "      new_dict[i] = 1 if (j/len(feature_names) > 1 - j/len(feature_names)) else 0\n",
        "\n",
        "    return new_dict"
      ],
      "metadata": {
        "id": "BHb8_gsDdQOJ"
      },
      "execution_count": 56,
      "outputs": []
    },
    {
      "cell_type": "code",
      "source": [
        "# this function is used to give % accuracy of the model\n",
        "def calculate_accuracy(output_dict, df):\n",
        "    accuracy = 0\n",
        "    df_dict = {}\n",
        "    for i,j in zip(df['PassengerId'].values, df['Survived'].values):\n",
        "      df_dict[i] = j\n",
        "    for i,j in output_dict.items():\n",
        "      if output_dict[i] == df_dict[i]: accuracy = accuracy + 1\n",
        "    return str((accuracy/len(output_dict.values())*100))"
      ],
      "metadata": {
        "id": "HvXwmcB3dT3T"
      },
      "execution_count": 57,
      "outputs": []
    },
    {
      "cell_type": "code",
      "source": [
        "# ---------------------------Main (Naive Bayes)------------------------------\n",
        "if __name__ == \"__main__\":\n",
        "\n",
        "  survived = group_into_class(train_data, 'Survived')\n",
        "  total_survived = len(survived[1])\n",
        "  total_count = len(survived[0]) + len(survived[1])\n",
        "  probability_survived = total_survived/total_count\n",
        "\n",
        "  # using only Sex column for training \n",
        "\n",
        "  gender_probability_weights = get_probabilities(train_data, \"Sex\", survived, \n",
        "                    probability_survived, total_survived, total_count)\n",
        "\n",
        "  prediction_on_test_data =  predict_naive_bayes(test_data, [\"Sex\"],\n",
        "                              {\"Sex\": gender_probability_weights})\n",
        "  \n",
        "  print(\"Accuracy of prediction on test data - \", calculate_accuracy(\n",
        "                                        prediction_on_test_data, test_results))\n",
        "  \n",
        "  print(\"\\nEnd of naive bayes\")\n",
        "  print(\"-----------------------------------------------------------------\")"
      ],
      "metadata": {
        "colab": {
          "base_uri": "https://localhost:8080/"
        },
        "id": "axlBgLcLdWVr",
        "outputId": "77b2c0c6-2b64-4b55-8ded-23b447e95c2a"
      },
      "execution_count": 59,
      "outputs": [
        {
          "output_type": "stream",
          "name": "stdout",
          "text": [
            "Accuracy of prediction on test data -  100.0\n",
            "\n",
            "End of naive bayes\n",
            "-----------------------------------------------------------------\n"
          ]
        }
      ]
    },
    {
      "cell_type": "code",
      "source": [
        "\n",
        "\n",
        "train_data = pd.read_csv(\"train.csv\")\n",
        "test_data = pd.read_csv(\"test.csv\")\n",
        "test_results = pd.read_csv(\"gender_submission.csv\")\n",
        "\n",
        "# preprocessing\n",
        "\n",
        "# dropping columns with mixed, irrelevant and less data points\n",
        "train_data = train_data.drop(\"Cabin\", 1)\n",
        "train_data = train_data.drop(\"Name\", 1)\n",
        "train_data = train_data.drop(\"Ticket\", 1)\n",
        "train_data = train_data.drop(\"SibSp\", 1)\n",
        "train_data = train_data.drop(\"Parch\", 1)\n",
        "train_data = train_data.drop(\"Embarked\", 1)\n",
        "train_data = train_data.drop(\"Pclass\", 1)\n",
        "train_data = train_data.drop(\"Sex\", 1)\n",
        "\n",
        "# removing null and sparse data points\n",
        "train_data = train_data.dropna(how='any',axis=0) \n",
        "train_data.drop(train_data[train_data[\"Fare\"]>300].index, inplace=True)\n",
        "\n",
        "print(train_data)\n",
        "\n",
        "colormap = np.array(['r', 'g'])\n",
        "plt.scatter(train_data['Fare'].tolist(), train_data['Age'].tolist(), \n",
        "            c=colormap[train_data['Survived'].to_numpy()])\n",
        "plt.xlabel(\"Fare\")\n",
        "plt.ylabel(\"Age\")\n"
      ],
      "metadata": {
        "id": "CoSjrs4bda4g",
        "colab": {
          "base_uri": "https://localhost:8080/",
          "height": 837
        },
        "outputId": "2d934fcf-2dd0-4b1a-83d8-1b239dc343da"
      },
      "execution_count": null,
      "outputs": [
        {
          "output_type": "stream",
          "name": "stdout",
          "text": [
            "     PassengerId  Survived   Age     Fare\n",
            "0              1         0  22.0   7.2500\n",
            "1              2         1  38.0  71.2833\n",
            "2              3         1  26.0   7.9250\n",
            "3              4         1  35.0  53.1000\n",
            "4              5         0  35.0   8.0500\n",
            "..           ...       ...   ...      ...\n",
            "885          886         0  39.0  29.1250\n",
            "886          887         0  27.0  13.0000\n",
            "887          888         1  19.0  30.0000\n",
            "889          890         1  26.0  30.0000\n",
            "890          891         0  32.0   7.7500\n",
            "\n",
            "[711 rows x 4 columns]\n"
          ]
        },
        {
          "output_type": "stream",
          "name": "stderr",
          "text": [
            "/usr/local/lib/python3.7/dist-packages/ipykernel_launcher.py:8: FutureWarning: In a future version of pandas all arguments of DataFrame.drop except for the argument 'labels' will be keyword-only\n",
            "  \n",
            "/usr/local/lib/python3.7/dist-packages/ipykernel_launcher.py:9: FutureWarning: In a future version of pandas all arguments of DataFrame.drop except for the argument 'labels' will be keyword-only\n",
            "  if __name__ == '__main__':\n",
            "/usr/local/lib/python3.7/dist-packages/ipykernel_launcher.py:10: FutureWarning: In a future version of pandas all arguments of DataFrame.drop except for the argument 'labels' will be keyword-only\n",
            "  # Remove the CWD from sys.path while we load stuff.\n",
            "/usr/local/lib/python3.7/dist-packages/ipykernel_launcher.py:11: FutureWarning: In a future version of pandas all arguments of DataFrame.drop except for the argument 'labels' will be keyword-only\n",
            "  # This is added back by InteractiveShellApp.init_path()\n",
            "/usr/local/lib/python3.7/dist-packages/ipykernel_launcher.py:12: FutureWarning: In a future version of pandas all arguments of DataFrame.drop except for the argument 'labels' will be keyword-only\n",
            "  if sys.path[0] == '':\n",
            "/usr/local/lib/python3.7/dist-packages/ipykernel_launcher.py:13: FutureWarning: In a future version of pandas all arguments of DataFrame.drop except for the argument 'labels' will be keyword-only\n",
            "  del sys.path[0]\n",
            "/usr/local/lib/python3.7/dist-packages/ipykernel_launcher.py:14: FutureWarning: In a future version of pandas all arguments of DataFrame.drop except for the argument 'labels' will be keyword-only\n",
            "  \n",
            "/usr/local/lib/python3.7/dist-packages/ipykernel_launcher.py:15: FutureWarning: In a future version of pandas all arguments of DataFrame.drop except for the argument 'labels' will be keyword-only\n",
            "  from ipykernel import kernelapp as app\n"
          ]
        },
        {
          "output_type": "execute_result",
          "data": {
            "text/plain": [
              "Text(0, 0.5, 'Age')"
            ]
          },
          "metadata": {},
          "execution_count": 43
        },
        {
          "output_type": "display_data",
          "data": {
            "text/plain": [
              "<Figure size 432x288 with 1 Axes>"
            ],
            "image/png": "[encoded data removed]"
          },
          "metadata": {
            "needs_background": "light"
          }
        }
      ]
    },
    {
      "cell_type": "code",
      "source": [
        "def euclid_dist(x1, y1, x2, y2):  \n",
        "  return ((x2-x1)**2 + (y2-y1)**2)**0.5"
      ],
      "metadata": {
        "id": "pX1kgKshjkcr"
      },
      "execution_count": null,
      "outputs": []
    },
    {
      "cell_type": "code",
      "source": [
        "def classify_data_points(train_data):\n",
        "  new_dict = {}\n",
        "  for x,y,p in zip(train_data[\"Fare\"].to_list(), train_data[\"Age\"].to_list(), \n",
        "                   train_data[\"Survived\"].to_list()):\n",
        "    if p not in new_dict.keys(): new_dict[p] = [(x,y)]\n",
        "    else : new_dict[p].append((x,y))\n",
        "  return new_dict"
      ],
      "metadata": {
        "id": "oaivLgA3rp7T"
      },
      "execution_count": null,
      "outputs": []
    },
    {
      "cell_type": "code",
      "source": [
        "def predict_knn(data, test_data, threshold):\n",
        "  prediction = {}\n",
        "  dists = []\n",
        "  for x,y,id in zip(test_data[\"Fare\"].to_list(), test_data[\"Age\"].to_list(), \n",
        "                   test_data[\"PassengerId\"].to_list()):\n",
        "    for i,j in data.items():\n",
        "      for k in j:\n",
        "        dist = euclid_dist(k[0], k[1], x, y)\n",
        "        if dist <= threshold: dists.append(dist)\n",
        "      if i == 1: survived_dists = dists\n",
        "      else : not_survived_dists = dists\n",
        "      dists = []\n",
        "    if len(survived_dists)>len(not_survived_dists): p = 1\n",
        "    else : p = 0\n",
        "    prediction[id] = p\n",
        "  return prediction"
      ],
      "metadata": {
        "colab": {
          "base_uri": "https://localhost:8080/"
        },
        "id": "RWFG4zgStuct",
        "outputId": "1c569e6a-710f-47e4-a847-efe0421709ad"
      },
      "execution_count": null,
      "outputs": [
        {
          "output_type": "stream",
          "name": "stdout",
          "text": [
            "{892: 0, 893: 0, 894: 1, 895: 0, 896: 0, 897: 1, 898: 0, 899: 1, 900: 0, 901: 1, 902: 0, 903: 0, 904: 1, 905: 0, 906: 0, 907: 1, 908: 0, 909: 0, 910: 0, 911: 0, 912: 1, 913: 0, 914: 0, 915: 1, 916: 0, 917: 0, 918: 1, 919: 0, 920: 0, 921: 0, 922: 1, 923: 1, 924: 1, 925: 0, 926: 1, 927: 0, 928: 0, 929: 0, 930: 0, 931: 0, 932: 0, 933: 0, 934: 0, 935: 0, 936: 1, 937: 0, 938: 0, 939: 0, 940: 1, 941: 0, 942: 0, 943: 0, 944: 1, 945: 0, 946: 0, 947: 0, 948: 0, 949: 0, 950: 0, 951: 0, 952: 0, 953: 0, 954: 0, 955: 0, 956: 0, 957: 0, 958: 0, 959: 1, 960: 0, 961: 0, 962: 0, 963: 0, 964: 0, 965: 0, 966: 0, 967: 0, 968: 0, 969: 0, 970: 0, 971: 0, 972: 1, 973: 0, 974: 1, 975: 0, 976: 0, 977: 0, 978: 0, 979: 0, 980: 0, 981: 1, 982: 0, 983: 0, 984: 1, 985: 0, 986: 0, 987: 0, 988: 0, 989: 0, 990: 0, 991: 0, 992: 1, 993: 1, 994: 0, 995: 0, 996: 0, 997: 0, 998: 0, 999: 0, 1000: 0, 1001: 0, 1002: 0, 1003: 0, 1004: 1, 1005: 0, 1006: 0, 1007: 0, 1008: 0, 1009: 1, 1010: 0, 1011: 0, 1012: 0, 1013: 0, 1014: 0, 1015: 0, 1016: 0, 1017: 0, 1018: 0, 1019: 0, 1020: 0, 1021: 0, 1022: 0, 1023: 0, 1024: 0, 1025: 0, 1026: 0, 1027: 0, 1028: 0, 1029: 0, 1030: 0, 1031: 0, 1032: 0, 1033: 0, 1034: 0, 1035: 0, 1036: 0, 1037: 0, 1038: 0, 1039: 0, 1040: 0, 1041: 1, 1042: 1, 1043: 0, 1044: 0, 1045: 0, 1046: 0, 1047: 0, 1048: 0, 1049: 0, 1050: 0, 1051: 0, 1052: 0, 1053: 1, 1054: 0, 1055: 0, 1056: 0, 1057: 0, 1058: 1, 1059: 0, 1060: 0, 1061: 0, 1062: 0, 1063: 0, 1064: 0, 1065: 0, 1066: 0, 1067: 0, 1068: 0, 1069: 0, 1070: 0, 1071: 0, 1072: 0, 1073: 1, 1074: 0, 1075: 0, 1076: 0, 1077: 0, 1078: 0, 1079: 0, 1080: 0, 1081: 0, 1082: 1, 1083: 0, 1084: 0, 1085: 0, 1086: 0, 1087: 0, 1088: 0, 1089: 0, 1090: 0, 1091: 0, 1092: 0, 1093: 1, 1094: 0, 1095: 0, 1096: 0, 1097: 0, 1098: 0, 1099: 0, 1100: 1, 1101: 0, 1102: 0, 1103: 0, 1104: 0, 1105: 0, 1106: 0, 1107: 0, 1108: 0, 1109: 0, 1110: 0, 1111: 0, 1112: 0, 1113: 0, 1114: 0, 1115: 0, 1116: 0, 1117: 0, 1118: 0, 1119: 0, 1120: 0, 1121: 0, 1122: 0, 1123: 1, 1124: 0, 1125: 0, 1126: 1, 1127: 0, 1128: 1, 1129: 0, 1130: 0, 1131: 0, 1132: 0, 1133: 0, 1134: 0, 1135: 0, 1136: 0, 1137: 0, 1138: 1, 1139: 1, 1140: 0, 1141: 0, 1142: 1, 1143: 0, 1144: 0, 1145: 0, 1146: 0, 1147: 0, 1148: 0, 1149: 0, 1150: 0, 1151: 0, 1152: 0, 1153: 0, 1154: 0, 1155: 1, 1156: 1, 1157: 0, 1158: 0, 1159: 0, 1160: 0, 1161: 0, 1162: 1, 1163: 0, 1164: 0, 1165: 0, 1166: 0, 1167: 1, 1168: 0, 1169: 0, 1170: 0, 1171: 0, 1172: 0, 1173: 1, 1174: 0, 1175: 0, 1176: 1, 1177: 0, 1178: 0, 1179: 1, 1180: 0, 1181: 0, 1182: 0, 1183: 0, 1184: 0, 1185: 0, 1186: 0, 1187: 0, 1188: 0, 1189: 0, 1190: 0, 1191: 0, 1192: 0, 1193: 0, 1194: 0, 1195: 0, 1196: 0, 1197: 0, 1198: 0, 1199: 1, 1200: 1, 1201: 0, 1202: 0, 1203: 0, 1204: 0, 1205: 0, 1206: 0, 1207: 0, 1208: 1, 1209: 0, 1210: 0, 1211: 1, 1212: 0, 1213: 0, 1214: 0, 1215: 1, 1216: 0, 1217: 0, 1218: 0, 1219: 0, 1220: 0, 1221: 0, 1222: 0, 1223: 0, 1224: 0, 1225: 0, 1226: 0, 1227: 1, 1228: 0, 1229: 0, 1230: 1, 1231: 0, 1232: 0, 1233: 0, 1234: 0, 1235: 0, 1236: 0, 1237: 0, 1238: 0, 1239: 0, 1240: 0, 1241: 0, 1242: 0, 1243: 0, 1244: 0, 1245: 1, 1246: 1, 1247: 1, 1248: 0, 1249: 0, 1250: 0, 1251: 0, 1252: 0, 1253: 0, 1254: 0, 1255: 0, 1256: 1, 1257: 0, 1258: 0, 1259: 1, 1260: 0, 1261: 0, 1262: 0, 1263: 0, 1264: 0, 1265: 1, 1266: 0, 1267: 0, 1268: 0, 1269: 0, 1270: 0, 1271: 0, 1272: 0, 1273: 0, 1274: 0, 1275: 0, 1276: 0, 1277: 1, 1278: 0, 1279: 0, 1280: 0, 1281: 1, 1282: 0, 1283: 0, 1284: 0, 1285: 0, 1286: 0, 1287: 1, 1288: 0, 1289: 1, 1290: 0, 1291: 0, 1292: 1, 1293: 1, 1294: 0, 1295: 0, 1296: 0, 1297: 0, 1298: 0, 1299: 0, 1300: 0, 1301: 1, 1302: 0, 1303: 1, 1304: 0, 1305: 0, 1306: 1, 1307: 0, 1308: 0, 1309: 0}\n"
          ]
        }
      ]
    },
    {
      "cell_type": "code",
      "source": [
        "def accuracy_knn(predicted, test_results):\n",
        "  results = {}\n",
        "  for i,j in zip(test_results[\"PassengerId\"], test_results[\"Survived\"]):\n",
        "    results[i] = j\n",
        "  count = 0\n",
        "  for i,j in predicted.items():\n",
        "    if results[i] == j : count = count + 1\n",
        "  \n",
        "  return (count/len(predicted.items()))*100"
      ],
      "metadata": {
        "colab": {
          "base_uri": "https://localhost:8080/"
        },
        "id": "aMzUfuIzt13_",
        "outputId": "8255b967-3b27-4181-c9ea-3de05f07c9f4"
      },
      "execution_count": null,
      "outputs": [
        {
          "output_type": "stream",
          "name": "stdout",
          "text": [
            "{892: 0, 893: 0, 894: 1, 895: 0, 896: 0, 897: 1, 898: 0, 899: 1, 900: 0, 901: 1, 902: 0, 903: 0, 904: 1, 905: 0, 906: 0, 907: 1, 908: 0, 909: 0, 910: 0, 911: 0, 912: 1, 913: 0, 914: 0, 915: 1, 916: 0, 917: 0, 918: 1, 919: 0, 920: 0, 921: 0, 922: 1, 923: 1, 924: 1, 925: 0, 926: 1, 927: 0, 928: 0, 929: 0, 930: 0, 931: 0, 932: 0, 933: 0, 934: 0, 935: 0, 936: 1, 937: 0, 938: 0, 939: 0, 940: 1, 941: 0, 942: 0, 943: 0, 944: 1, 945: 0, 946: 0, 947: 0, 948: 0, 949: 0, 950: 0, 951: 0, 952: 0, 953: 0, 954: 0, 955: 0, 956: 0, 957: 0, 958: 0, 959: 1, 960: 0, 961: 0, 962: 0, 963: 0, 964: 0, 965: 0, 966: 0, 967: 0, 968: 0, 969: 0, 970: 0, 971: 0, 972: 1, 973: 0, 974: 1, 975: 0, 976: 0, 977: 0, 978: 0, 979: 0, 980: 0, 981: 1, 982: 0, 983: 0, 984: 1, 985: 0, 986: 0, 987: 0, 988: 0, 989: 0, 990: 0, 991: 0, 992: 1, 993: 1, 994: 0, 995: 0, 996: 0, 997: 0, 998: 0, 999: 0, 1000: 0, 1001: 0, 1002: 0, 1003: 0, 1004: 1, 1005: 0, 1006: 0, 1007: 0, 1008: 0, 1009: 1, 1010: 0, 1011: 0, 1012: 0, 1013: 0, 1014: 0, 1015: 0, 1016: 0, 1017: 0, 1018: 0, 1019: 0, 1020: 0, 1021: 0, 1022: 0, 1023: 0, 1024: 0, 1025: 0, 1026: 0, 1027: 0, 1028: 0, 1029: 0, 1030: 0, 1031: 0, 1032: 0, 1033: 0, 1034: 0, 1035: 0, 1036: 0, 1037: 0, 1038: 0, 1039: 0, 1040: 0, 1041: 1, 1042: 1, 1043: 0, 1044: 0, 1045: 0, 1046: 0, 1047: 0, 1048: 0, 1049: 0, 1050: 0, 1051: 0, 1052: 0, 1053: 1, 1054: 0, 1055: 0, 1056: 0, 1057: 0, 1058: 1, 1059: 0, 1060: 0, 1061: 0, 1062: 0, 1063: 0, 1064: 0, 1065: 0, 1066: 0, 1067: 0, 1068: 0, 1069: 0, 1070: 0, 1071: 0, 1072: 0, 1073: 1, 1074: 0, 1075: 0, 1076: 0, 1077: 0, 1078: 0, 1079: 0, 1080: 0, 1081: 0, 1082: 1, 1083: 0, 1084: 0, 1085: 0, 1086: 0, 1087: 0, 1088: 0, 1089: 0, 1090: 0, 1091: 0, 1092: 0, 1093: 1, 1094: 0, 1095: 0, 1096: 0, 1097: 0, 1098: 0, 1099: 0, 1100: 1, 1101: 0, 1102: 0, 1103: 0, 1104: 0, 1105: 0, 1106: 0, 1107: 0, 1108: 0, 1109: 0, 1110: 0, 1111: 0, 1112: 0, 1113: 0, 1114: 0, 1115: 0, 1116: 0, 1117: 0, 1118: 0, 1119: 0, 1120: 0, 1121: 0, 1122: 0, 1123: 1, 1124: 0, 1125: 0, 1126: 1, 1127: 0, 1128: 1, 1129: 0, 1130: 0, 1131: 0, 1132: 0, 1133: 0, 1134: 0, 1135: 0, 1136: 0, 1137: 0, 1138: 1, 1139: 1, 1140: 0, 1141: 0, 1142: 1, 1143: 0, 1144: 0, 1145: 0, 1146: 0, 1147: 0, 1148: 0, 1149: 0, 1150: 0, 1151: 0, 1152: 0, 1153: 0, 1154: 0, 1155: 1, 1156: 1, 1157: 0, 1158: 0, 1159: 0, 1160: 0, 1161: 0, 1162: 1, 1163: 0, 1164: 0, 1165: 0, 1166: 0, 1167: 1, 1168: 0, 1169: 0, 1170: 0, 1171: 0, 1172: 0, 1173: 1, 1174: 0, 1175: 0, 1176: 1, 1177: 0, 1178: 0, 1179: 1, 1180: 0, 1181: 0, 1182: 0, 1183: 0, 1184: 0, 1185: 0, 1186: 0, 1187: 0, 1188: 0, 1189: 0, 1190: 0, 1191: 0, 1192: 0, 1193: 0, 1194: 0, 1195: 0, 1196: 0, 1197: 0, 1198: 0, 1199: 1, 1200: 1, 1201: 0, 1202: 0, 1203: 0, 1204: 0, 1205: 0, 1206: 0, 1207: 0, 1208: 1, 1209: 0, 1210: 0, 1211: 1, 1212: 0, 1213: 0, 1214: 0, 1215: 1, 1216: 0, 1217: 0, 1218: 0, 1219: 0, 1220: 0, 1221: 0, 1222: 0, 1223: 0, 1224: 0, 1225: 0, 1226: 0, 1227: 1, 1228: 0, 1229: 0, 1230: 1, 1231: 0, 1232: 0, 1233: 0, 1234: 0, 1235: 0, 1236: 0, 1237: 0, 1238: 0, 1239: 0, 1240: 0, 1241: 0, 1242: 0, 1243: 0, 1244: 0, 1245: 1, 1246: 1, 1247: 1, 1248: 0, 1249: 0, 1250: 0, 1251: 0, 1252: 0, 1253: 0, 1254: 0, 1255: 0, 1256: 1, 1257: 0, 1258: 0, 1259: 1, 1260: 0, 1261: 0, 1262: 0, 1263: 0, 1264: 0, 1265: 1, 1266: 0, 1267: 0, 1268: 0, 1269: 0, 1270: 0, 1271: 0, 1272: 0, 1273: 0, 1274: 0, 1275: 0, 1276: 0, 1277: 1, 1278: 0, 1279: 0, 1280: 0, 1281: 1, 1282: 0, 1283: 0, 1284: 0, 1285: 0, 1286: 0, 1287: 1, 1288: 0, 1289: 1, 1290: 0, 1291: 0, 1292: 1, 1293: 1, 1294: 0, 1295: 0, 1296: 0, 1297: 0, 1298: 0, 1299: 0, 1300: 0, 1301: 1, 1302: 0, 1303: 1, 1304: 0, 1305: 0, 1306: 1, 1307: 0, 1308: 0, 1309: 0}\n"
          ]
        }
      ]
    },
    {
      "cell_type": "code",
      "source": [
        "#for i in range(0,35):\n",
        "preds = predict_knn(classify_data_points(train_data), test_data, 30)\n",
        "accuracy = accuracy_knn(preds, test_results)\n",
        "print(accuracy)"
      ],
      "metadata": {
        "colab": {
          "base_uri": "https://localhost:8080/"
        },
        "id": "LMWVKNtXyuf2",
        "outputId": "a2f8df51-3744-439b-9e5c-bad8aaefb68e"
      },
      "execution_count": null,
      "outputs": [
        {
          "output_type": "stream",
          "name": "stdout",
          "text": [
            "65.78947368421053\n"
          ]
        }
      ]
    },
    {
      "cell_type": "code",
      "source": [
        ""
      ],
      "metadata": {
        "id": "GXZg0_tgy-75"
      },
      "execution_count": null,
      "outputs": []
    }
  ]
}