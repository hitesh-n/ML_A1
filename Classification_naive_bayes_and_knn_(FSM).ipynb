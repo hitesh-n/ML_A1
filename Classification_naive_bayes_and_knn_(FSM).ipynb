{
  "nbformat": 4,
  "nbformat_minor": 0,
  "metadata": {
    "colab": {
      "name": "Classification naive bayes and knn (FSM).ipynb",
      "provenance": [],
      "collapsed_sections": [],
      "authorship_tag": "ABX9TyOem+k7oNQcBHGgWmbixrLu"
    },
    "kernelspec": {
      "name": "python3",
      "display_name": "Python 3"
    },
    "language_info": {
      "name": "python"
    }
  },
  "cells": [
    {
      "cell_type": "code",
      "execution_count": 127,
      "metadata": {
        "id": "wf8LIxFAb6NC"
      },
      "outputs": [],
      "source": [
        "import pandas as pd\n",
        "import numpy as np\n",
        "import matplotlib.pyplot as plt\n",
        "import matplotlib.patches as mpatches"
      ]
    },
    {
      "cell_type": "code",
      "source": [
        "#--------------------Naive Bayes Classifier-----------------------------------\n",
        "\n",
        "# loading data into pandas dataframe\n",
        "train_data = pd.read_csv(\"train.csv\")\n",
        "test_data = pd.read_csv(\"test.csv\")\n",
        "test_results = pd.read_csv(\"gender_submission.csv\")\n",
        "\n",
        "# preprocessing\n",
        "\n",
        "# dropping columns with mixed, irrelevant and less data \n",
        "train_data = train_data.drop(\"Cabin\", axis=1)\n",
        "train_data = train_data.drop(\"Name\", axis=1)\n",
        "train_data = train_data.drop(\"Ticket\", axis=1)\n",
        "train_data = train_data.drop(\"Age\", axis=1)\n",
        "train_data = train_data.drop(\"Fare\", axis=1)\n",
        "\n",
        "# removing null rows\n",
        "train_data = train_data.dropna(how='any',axis=0)  \n",
        "\n",
        "print(train_data)"
      ],
      "metadata": {
        "colab": {
          "base_uri": "https://localhost:8080/"
        },
        "id": "O6IWmBP2c4Lq",
        "outputId": "378ca780-99bb-416a-9f7f-b3748ea71cf0"
      },
      "execution_count": 128,
      "outputs": [
        {
          "output_type": "stream",
          "name": "stdout",
          "text": [
            "     PassengerId  Survived  Pclass     Sex  SibSp  Parch Embarked\n",
            "0              1         0       3    male      1      0        S\n",
            "1              2         1       1  female      1      0        C\n",
            "2              3         1       3  female      0      0        S\n",
            "3              4         1       1  female      1      0        S\n",
            "4              5         0       3    male      0      0        S\n",
            "..           ...       ...     ...     ...    ...    ...      ...\n",
            "886          887         0       2    male      0      0        S\n",
            "887          888         1       1  female      0      0        S\n",
            "888          889         0       3  female      1      2        S\n",
            "889          890         1       1    male      0      0        C\n",
            "890          891         0       3    male      0      0        Q\n",
            "\n",
            "[889 rows x 7 columns]\n"
          ]
        }
      ]
    },
    {
      "cell_type": "code",
      "source": [
        "# this function is used to group passenger id under different class \n",
        "# features\n",
        "def group_into_class(df, column_name):\n",
        "    grouped = df.groupby(['PassengerId', column_name])\n",
        "    classified_dict = {}\n",
        "    for i,j in grouped: classified_dict[i[1]] = []\n",
        "    for i,j in grouped: classified_dict[i[1]].append(i[0])\n",
        "    return classified_dict\n"
      ],
      "metadata": {
        "id": "uo_FCb2odJ_F"
      },
      "execution_count": 129,
      "outputs": []
    },
    {
      "cell_type": "code",
      "source": [
        "# this function is used to calculate probabilities using bayes theorem\n",
        "def get_probabilities(df, feature_name, survived, probability_survived, \n",
        "                      total_survived, total_count):\n",
        "    count = 0\n",
        "    probabilities = {}\n",
        "    for i,j in group_into_class(df, feature_name).items():\n",
        "        for k in j:\n",
        "            if k in survived[1] : count = count + 1\n",
        "        probabilities[i] = ((count/total_survived)*\n",
        "                                probability_survived)/(len(j)/total_count)\n",
        "        count = 0\n",
        "    return probabilities"
      ],
      "metadata": {
        "id": "FX9jSApedMGv"
      },
      "execution_count": 130,
      "outputs": []
    },
    {
      "cell_type": "code",
      "source": [
        "# this function is used to predict the output based on the probabilities \n",
        "def predict_naive_bayes(df, feature_names, probability_weights):\n",
        "    new_dict = {}\n",
        "\n",
        "    for f in feature_names:\n",
        "      for i,j in group_into_class(df, f).items():\n",
        "        for k in j:\n",
        "          p = probability_weights[f][i]\n",
        "          if k not in new_dict.keys(): new_dict[k] = 0\n",
        "          new_dict[k] = new_dict[k] + p\n",
        "\n",
        "    for i, j in new_dict.items():\n",
        "      new_dict[i] = 1 if (j/len(feature_names) > 1 - j/len(feature_names)) else 0\n",
        "\n",
        "    return new_dict"
      ],
      "metadata": {
        "id": "BHb8_gsDdQOJ"
      },
      "execution_count": 131,
      "outputs": []
    },
    {
      "cell_type": "code",
      "source": [
        "# this function is used to give % accuracy of the model\n",
        "def calculate_accuracy(output_dict, df):\n",
        "    accuracy = 0\n",
        "    df_dict = {}\n",
        "    for i,j in zip(df['PassengerId'].values, df['Survived'].values):\n",
        "      df_dict[i] = j\n",
        "    for i,j in output_dict.items():\n",
        "      if output_dict[i] == df_dict[i]: accuracy = accuracy + 1\n",
        "    return str((accuracy/len(output_dict.values())*100))"
      ],
      "metadata": {
        "id": "HvXwmcB3dT3T"
      },
      "execution_count": 132,
      "outputs": []
    },
    {
      "cell_type": "code",
      "source": [
        "# ---------------------------Main (Naive Bayes)------------------------------\n",
        "if __name__ == \"__main__\":\n",
        "\n",
        "  survived = group_into_class(train_data, 'Survived')\n",
        "  total_survived = len(survived[1])\n",
        "  total_count = len(survived[0]) + len(survived[1])\n",
        "  probability_survived = total_survived/total_count\n",
        "\n",
        "  # using only Sex column \n",
        "\n",
        "  gender_probability_weights = get_probabilities(train_data, \"Sex\", survived, \n",
        "                    probability_survived, total_survived, total_count)\n",
        "  \n",
        "  prediction_on_test_data =  predict_naive_bayes(test_data, [\"Sex\"],\n",
        "                                          {\"Sex\": gender_probability_weights})\n",
        "  \n",
        "  print(\"Accuracy of prediction on test data using only sex - \", \n",
        "                    calculate_accuracy(prediction_on_test_data, test_results))\n",
        "\n",
        "  # using sex and sibsp column \n",
        "\n",
        "  sibsp_probability_weights = get_probabilities(train_data, \"SibSp\", survived, \n",
        "                    probability_survived, total_survived, total_count)\n",
        "  \n",
        "  prediction_on_test_data =  predict_naive_bayes(test_data, [\"Sex\", \"SibSp\"],\n",
        "      {\"Sex\": gender_probability_weights, \"SibSp\": sibsp_probability_weights})\n",
        "\n",
        "  print(\"Accuracy of prediction on test data using SibSp and Sex - \", \n",
        "                    calculate_accuracy(prediction_on_test_data, test_results))\n",
        "    \n",
        "  print(\"\\nEnd of naive bayes\")\n",
        "  print(\"-----------------------------------------------------------------\")"
      ],
      "metadata": {
        "colab": {
          "base_uri": "https://localhost:8080/"
        },
        "id": "axlBgLcLdWVr",
        "outputId": "420f674a-c233-4dc7-d3f8-ce9ddab9057a"
      },
      "execution_count": 133,
      "outputs": [
        {
          "output_type": "stream",
          "name": "stdout",
          "text": [
            "Accuracy of prediction on test data using only sex -  100.0\n",
            "Accuracy of prediction on test data using SibSp and Sex -  99.04306220095694\n",
            "\n",
            "End of naive bayes\n",
            "-----------------------------------------------------------------\n"
          ]
        }
      ]
    },
    {
      "cell_type": "code",
      "source": [
        "#--------------------KNN Classifier-----------------------------------\n",
        "\n",
        "train_data = pd.read_csv(\"train.csv\")\n",
        "test_data = pd.read_csv(\"test.csv\")\n",
        "test_results = pd.read_csv(\"gender_submission.csv\")\n",
        "\n",
        "# preprocessing\n",
        "\n",
        "# dropping columns with mixed, irrelevant and less data points\n",
        "train_data = train_data.drop(\"Cabin\", axis=1)\n",
        "train_data = train_data.drop(\"Name\", axis=1)\n",
        "train_data = train_data.drop(\"Ticket\", axis=1)\n",
        "train_data = train_data.drop(\"SibSp\", axis=1)\n",
        "train_data = train_data.drop(\"Parch\", axis=1)\n",
        "train_data = train_data.drop(\"Embarked\", axis=1)\n",
        "train_data = train_data.drop(\"Pclass\", axis=1)\n",
        "train_data = train_data.drop(\"Sex\", axis=1)\n",
        "\n",
        "# removing null and sparse data points\n",
        "train_data = train_data.dropna(how='any',axis=0) \n",
        "train_data.drop(train_data[train_data[\"Fare\"]>300].index, inplace=True)\n",
        "\n",
        "print(train_data)\n",
        "\n",
        "# using age and fare for this model\n",
        "colormap = np.array(['r', 'g'])\n",
        "x = train_data['Fare'].tolist()\n",
        "y = train_data['Age'].tolist()\n",
        "plt.scatter(x, y, c=colormap[train_data['Survived'].to_numpy()])\n",
        "plt.xlabel(\"Fare\")\n",
        "plt.ylabel(\"Age\")\n",
        "red = mpatches.Patch(color='red', label='Not survived')\n",
        "green = mpatches.Patch(color='green', label='Survived')\n",
        "plt.legend(handles=[red,green])\n"
      ],
      "metadata": {
        "id": "CoSjrs4bda4g",
        "colab": {
          "base_uri": "https://localhost:8080/",
          "height": 539
        },
        "outputId": "1d8df7cf-76b7-4d5f-ddc3-862d3ceb952c"
      },
      "execution_count": 134,
      "outputs": [
        {
          "output_type": "stream",
          "name": "stdout",
          "text": [
            "     PassengerId  Survived   Age     Fare\n",
            "0              1         0  22.0   7.2500\n",
            "1              2         1  38.0  71.2833\n",
            "2              3         1  26.0   7.9250\n",
            "3              4         1  35.0  53.1000\n",
            "4              5         0  35.0   8.0500\n",
            "..           ...       ...   ...      ...\n",
            "885          886         0  39.0  29.1250\n",
            "886          887         0  27.0  13.0000\n",
            "887          888         1  19.0  30.0000\n",
            "889          890         1  26.0  30.0000\n",
            "890          891         0  32.0   7.7500\n",
            "\n",
            "[711 rows x 4 columns]\n"
          ]
        },
        {
          "output_type": "execute_result",
          "data": {
            "text/plain": [
              "<matplotlib.legend.Legend at 0x7f2b2fa3bc10>"
            ]
          },
          "metadata": {},
          "execution_count": 134
        },
        {
          "output_type": "display_data",
          "data": {
            "text/plain": [
              "<Figure size 432x288 with 1 Axes>"
            ],
            "image/png": "[encoded data removed]"
          },
          "metadata": {
            "needs_background": "light"
          }
        }
      ]
    },
    {
      "cell_type": "code",
      "source": [
        "# this function is used to calculate euclidean distance\n",
        "def euclid_dist(x1, y1, x2, y2):  \n",
        "  return ((x2-x1)**2 + (y2-y1)**2)**0.5"
      ],
      "metadata": {
        "id": "pX1kgKshjkcr"
      },
      "execution_count": 135,
      "outputs": []
    },
    {
      "cell_type": "code",
      "source": [
        "# this function is used to get the data points for survived and not survived\n",
        "def data_points(train_data):\n",
        "  new_dict = {}\n",
        "  for x,y,p in zip(train_data[\"Fare\"].to_list(), train_data[\"Age\"].to_list(), \n",
        "                   train_data[\"Survived\"].to_list()):\n",
        "    if p not in new_dict.keys(): new_dict[p] = [(x,y)]\n",
        "    else : new_dict[p].append((x,y))\n",
        "  return new_dict"
      ],
      "metadata": {
        "id": "oaivLgA3rp7T"
      },
      "execution_count": 136,
      "outputs": []
    },
    {
      "cell_type": "code",
      "source": [
        "# this function is used to predict the output using knn method\n",
        "def predict_knn(data, test_data, threshold):\n",
        "  prediction = {}\n",
        "  dists = []\n",
        "  for x,y,id in zip(test_data[\"Fare\"].to_list(), test_data[\"Age\"].to_list(), \n",
        "                   test_data[\"PassengerId\"].to_list()):\n",
        "    # calculate distance of test data point with trained data points\n",
        "    for i,j in data.items():\n",
        "      for k in j:\n",
        "        dist = euclid_dist(k[0], k[1], x, y)\n",
        "        if dist <= threshold: dists.append(dist)\n",
        "      if i == 1: survived_dists = dists\n",
        "      else : not_survived_dists = dists\n",
        "      dists = []\n",
        "    # if many data points are closer to survived then prediction is 1 else 0\n",
        "    if len(survived_dists)>len(not_survived_dists): p = 1\n",
        "    else : p = 0\n",
        "    prediction[id] = p\n",
        "  return prediction"
      ],
      "metadata": {
        "id": "RWFG4zgStuct"
      },
      "execution_count": 137,
      "outputs": []
    },
    {
      "cell_type": "code",
      "source": [
        "# -------------------------------Main knn--------------------------------\n",
        "if __name__ == \"__main__\":\n",
        "  data_point_weights = data_points(train_data)\n",
        "  # using 30 as threshold distance \n",
        "  predictions = predict_knn(data_point_weights, test_data, 30)\n",
        "  accuracy = calculate_accuracy(preds, test_results)\n",
        "  print(\"The accuracy of the knn model on test data - \", accuracy)\n",
        "  print(\"\\n-------------------End of Knn classifier-----------------------\")"
      ],
      "metadata": {
        "colab": {
          "base_uri": "https://localhost:8080/"
        },
        "id": "LMWVKNtXyuf2",
        "outputId": "87c1a69c-6461-427f-d96b-c72d139284b2"
      },
      "execution_count": 138,
      "outputs": [
        {
          "output_type": "stream",
          "name": "stdout",
          "text": [
            "The accuracy of the knn model on test data -  65.78947368421053\n",
            "\n",
            "-------------------End of Knn classifier-----------------------\n"
          ]
        }
      ]
    },
    {
      "cell_type": "code",
      "source": [
        ""
      ],
      "metadata": {
        "id": "GXZg0_tgy-75"
      },
      "execution_count": null,
      "outputs": []
    }
  ]
}